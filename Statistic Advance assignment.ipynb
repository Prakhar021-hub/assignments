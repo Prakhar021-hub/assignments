{
 "cells": [
  {
   "cell_type": "markdown",
   "id": "c85fc269-0a5b-4f73-a4db-3aade56055d0",
   "metadata": {},
   "source": [
    "# Question 1: Define the z-statistic and explain its relationship to the standard normal distribution. How is the z-statistic used in hypothesis testing?\n",
    "\n",
    "The **z-statistic** (or z-score) measures how many standard deviations an observed sample mean is from the population mean under the null hypothesis. It is defined as:\n",
    "\n",
    "\\[\n",
    "z = \\frac{\\bar{x} - \\mu}{\\sigma / \\sqrt{n}}\n",
    "\\]\n",
    "\n",
    "where:  \n",
    "- \\(\\bar{x}\\) = sample mean  \n",
    "- \\(\\mu\\) = population mean (under null hypothesis)  \n",
    "- \\(\\sigma\\) = population standard deviation  \n",
    "- \\(n\\) = sample size  \n",
    "\n",
    "The z-statistic follows the **standard normal distribution** \\(N(0,1)\\) when the population is normal or the sample size is large (Central Limit Theorem).  \n",
    "\n",
    "In hypothesis testing, the z-statistic is compared to critical values from the standard normal distribution to decide whether to reject the null hypothesis.\n",
    "\n",
    "---\n",
    "\n",
    "# Question 2: What is a p-value, and how is it used in hypothesis testing? What does it mean if the p-value is very small (e.g., 0.01)?\n",
    "\n",
    "The **p-value** is the probability of observing a test statistic as extreme as, or more extreme than, the observed value, assuming the null hypothesis is true.  \n",
    "\n",
    "- A **small p-value** (e.g., 0.01) indicates strong evidence against the null hypothesis, suggesting the observed effect is unlikely due to chance.  \n",
    "- Typically, if \\( p \\leq \\alpha \\) (significance level, often 0.05), the null hypothesis is rejected.\n",
    "\n",
    "---\n",
    "\n",
    "# Question 3: Compare and contrast the binomial and Bernoulli distributions.\n",
    "\n",
    "- **Bernoulli distribution:** Models a single trial with two outcomes (success/failure), with probability \\(p\\) of success.  \n",
    "- **Binomial distribution:** Models the number of successes in \\(n\\) independent Bernoulli trials.  \n",
    "\n",
    "In essence, a binomial distribution is the sum of multiple Bernoulli trials.\n",
    "\n",
    "---\n",
    "\n",
    "# Question 4: Under what conditions is the binomial distribution used, and how does it relate to the Bernoulli distribution?\n",
    "\n",
    "The binomial distribution is used when:\n",
    "\n",
    "- There are a fixed number \\(n\\) of independent trials.  \n",
    "- Each trial has two outcomes (success or failure).  \n",
    "- The probability \\(p\\) of success is constant across trials.\n",
    "\n",
    "Relation: Each trial is Bernoulli-distributed; the binomial distribution is the sum of \\(n\\) Bernoulli trials.\n",
    "\n",
    "---\n",
    "\n",
    "# Question 5: What are the key properties of the Poisson distribution, and when is it appropriate to use this distribution?\n",
    "\n",
    "- Models the number of events in a fixed interval (time, space) when events occur independently and at a constant average rate \\(\\lambda\\).  \n",
    "- Key properties:  \n",
    "  - Mean = \\(\\lambda\\)  \n",
    "  - Variance = \\(\\lambda\\)  \n",
    "- Appropriate when counting rare events over fixed intervals, e.g., number of emails received per hour.\n",
    "\n",
    "---\n",
    "\n",
    "# Question 6: Define the terms \"probability distribution\" and \"probability density function\" (PDF). How does a PDF differ from a probability mass function (PMF)?\n",
    "\n",
    "- **Probability distribution:** A function describing probabilities of outcomes of a random variable.  \n",
    "- **Probability Density Function (PDF):** For continuous variables, a function where the area under the curve between two points gives the probability of the variable falling within that interval.  \n",
    "- **Probability Mass Function (PMF):** For discrete variables, a function that gives the probability of each discrete outcome.\n",
    "\n",
    "Difference: PDF applies to continuous variables, PMF applies to discrete variables.\n",
    "\n",
    "---\n",
    "\n",
    "# Question 7: Explain the Central Limit Theorem (CLT) with example.\n",
    "\n",
    "The CLT states that the distribution of sample means approaches a normal distribution as the sample size \\(n\\) increases, regardless of the population's distribution, provided \\(n\\) is sufficiently large.  \n",
    "\n",
    "**Example:** The average height from many samples of people will form a normal distribution, even if individual heights are skewed.\n",
    "\n",
    "---\n",
    "\n",
    "# Question 8: Compare z-scores and t-scores. When should you use a z-score, and when should a t-score be applied instead?\n",
    "\n",
    "- **Z-score:** Used when the population standard deviation is known or sample size is large (usually \\(n > 30\\)).  \n",
    "- **T-score:** Used when the population standard deviation is unknown and the sample size is small (\\(n \\leq 30\\)). The t-distribution accounts for added uncertainty.\n",
    "\n",
    "---\n"
   ]
  },
  {
   "cell_type": "markdown",
   "id": "0586f8b5-afa1-401a-8153-deb92dacaa0e",
   "metadata": {},
   "source": [
    "# Question 9: Given a sample mean of 105, a population mean of 100, a standard deviation of 15, and a sample size of 25, calculate the z-score and p-value. Based on a significance level of 0.05, do you reject or fail to reject the null hypothesis?\n",
    "\n",
    "The z-score is calculated as:\n",
    "\n",
    "\\[\n",
    "z = \\frac{105 - 100}{15 / \\sqrt{25}} = \\frac{5}{3} = 1.6667\n",
    "\\]\n",
    "\n",
    "We calculate the two-tailed p-value for this z-score and compare it with the significance level \\(\\alpha = 0.05\\)."
   ]
  },
  {
   "cell_type": "code",
   "execution_count": 3,
   "id": "77268c4b-df11-411d-8acb-56cb7ef18ecb",
   "metadata": {},
   "outputs": [
    {
     "name": "stdout",
     "output_type": "stream",
     "text": [
      "Z-score: 1.6667\n",
      "P-value: 0.0956\n",
      "Fail to reject the null hypothesis.\n"
     ]
    }
   ],
   "source": [
    "from scipy.stats import norm\n",
    "\n",
    "sample_mean = 105\n",
    "pop_mean = 100\n",
    "std_dev = 15\n",
    "n = 25\n",
    "\n",
    "# Calculate z-score\n",
    "z = (sample_mean - pop_mean) / (std_dev / (n ** 0.5))\n",
    "\n",
    "# Two-tailed p-value\n",
    "p_value = 2 * (1 - norm.cdf(abs(z)))\n",
    "\n",
    "print(f\"Z-score: {z:.4f}\")\n",
    "print(f\"P-value: {p_value:.4f}\")\n",
    "\n",
    "alpha = 0.05\n",
    "if p_value < alpha:\n",
    "    print(\"Reject the null hypothesis.\")\n",
    "else:\n",
    "    print(\"Fail to reject the null hypothesis.\")\n"
   ]
  },
  {
   "cell_type": "markdown",
   "id": "4a0d5c25-86a8-4f84-a7ff-7c3b36917d78",
   "metadata": {},
   "source": [
    "# Question 10: Simulate a binomial distribution with 10 trials and a probability of success of 0.6 using Python. Generate 1,000 samples and plot the distribution. What is the expected mean and variance?"
   ]
  },
  {
   "cell_type": "code",
   "execution_count": 4,
   "id": "53825c24-8ccf-401b-b459-3d36aa872916",
   "metadata": {},
   "outputs": [
    {
     "data": {
      "image/png": "[encoded data removed]",
      "text/plain": [
       "<Figure size 640x480 with 1 Axes>"
      ]
     },
     "metadata": {},
     "output_type": "display_data"
    },
    {
     "name": "stdout",
     "output_type": "stream",
     "text": [
      "Sample Mean: 5.88\n",
      "Sample Variance: 2.48\n",
      "Expected Mean: 6.0\n",
      "Expected Variance: 2.4000000000000004\n"
     ]
    }
   ],
   "source": [
    "import numpy as np\n",
    "import matplotlib.pyplot as plt\n",
    "\n",
    "n = 10\n",
    "p = 0.6\n",
    "samples = np.random.binomial(n, p, 1000)\n",
    "\n",
    "# Plot histogram\n",
    "plt.hist(samples, bins=range(n+2), align='left', rwidth=0.8, color='skyblue', edgecolor='black')\n",
    "plt.xlabel('Number of Successes')\n",
    "plt.ylabel('Frequency')\n",
    "plt.title('Binomial Distribution (n=10, p=0.6)')\n",
    "plt.show()\n",
    "\n",
    "# Calculate sample mean and variance\n",
    "mean_sample = np.mean(samples)\n",
    "var_sample = np.var(samples)\n",
    "\n",
    "print(f\"Sample Mean: {mean_sample:.2f}\")\n",
    "print(f\"Sample Variance: {var_sample:.2f}\")\n",
    "\n",
    "print(f\"Expected Mean: {n*p}\")\n",
    "print(f\"Expected Variance: {n*p*(1-p)}\")\n"
   ]
  },
  {
   "cell_type": "code",
   "execution_count": null,
   "id": "37acf8b2-b8a3-43b4-ba01-fc7d2582f6a9",
   "metadata": {},
   "outputs": [],
   "source": []
  }
 ],
 "metadata": {
  "kernelspec": {
   "display_name": "Python [conda env:base] *",
   "language": "python",
   "name": "conda-base-py"
  },
  "language_info": {
   "codemirror_mode": {
    "name": "ipython",
    "version": 3
   },
   "file_extension": ".py",
   "mimetype": "text/x-python",
   "name": "python",
   "nbconvert_exporter": "python",
   "pygments_lexer": "ipython3",
   "version": "3.11.7"
  }
 },
 "nbformat": 4,
 "nbformat_minor": 5
}
