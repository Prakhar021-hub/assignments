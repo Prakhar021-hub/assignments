{
 "cells": [
  {
   "cell_type": "markdown",
   "id": "1dec9662-a0da-4a54-8090-9942fc2f214d",
   "metadata": {},
   "source": [
    "# 1. What is the difference between a function and a method in Python?\n",
    "\n",
    "- A **function** is a block of reusable code defined using `def` that can be called independently.  \n",
    "- A **method** is a function that is associated with an object and called on that object. Methods are defined inside classes.\n",
    "\n",
    "**Example:**\n",
    "\n",
    "```python\n",
    "def greet(name):\n",
    "    return f\"Hello, {name}!\"  # function\n",
    "\n",
    "class Person:\n",
    "    def __init__(self, name):\n",
    "        self.name = name\n",
    "    \n",
    "    def greet(self):\n",
    "        return f\"Hello, {self.name}!\"  # method\n",
    "\n",
    "print(greet(\"Alice\"))          # Calling function\n",
    "p = Person(\"Bob\")\n",
    "print(p.greet())               # Calling method\n"
   ]
  },
  {
   "cell_type": "markdown",
   "id": "2e7b8466-4a04-4644-a08e-5bfd0f36b53d",
   "metadata": {},
   "source": [
    "# 2. Explain the concept of function arguments and parameters in Python.\n",
    "- Parameters are the variables listed in a function's definition.\n",
    "\n",
    "- Arguments are the actual values passed to the function when it is called."
   ]
  },
  {
   "cell_type": "code",
   "execution_count": 1,
   "id": "daecc28b-3ff2-4173-a11f-526f3b05c7c9",
   "metadata": {},
   "outputs": [
    {
     "name": "stdout",
     "output_type": "stream",
     "text": [
      "8\n"
     ]
    }
   ],
   "source": [
    "def add(x, y):  # x and y are parameters\n",
    "    return x + y\n",
    "\n",
    "result = add(5, 3)  # 5 and 3 are arguments\n",
    "print(result)\n"
   ]
  },
  {
   "cell_type": "markdown",
   "id": "20e78922-8ddf-40f3-9b36-53982d68c7a9",
   "metadata": {},
   "source": [
    "# 3. What are the different ways to define and call a function in Python?\n",
    "- Ways to define:\n",
    "1. Using def\n",
    "2. Using lambda (anonymous function)\n",
    "\n",
    "- Ways to call:\n",
    "\n",
    "1. Positional arguments\n",
    "\n",
    "2. Keyword arguments\n",
    "\n",
    "3. Default arguments\n",
    "\n",
    "4. Variable-length arguments (*args, **kwargs) , Examples"
   ]
  },
  {
   "cell_type": "code",
   "execution_count": 2,
   "id": "fc9254da-b338-48d2-997f-672302f15e1e",
   "metadata": {},
   "outputs": [
    {
     "name": "stdout",
     "output_type": "stream",
     "text": [
      "Hello, Alice\n",
      "Hello, Bob\n",
      "Hello, Guest\n"
     ]
    }
   ],
   "source": [
    "def greet(name=\"Guest\"):\n",
    "    print(f\"Hello, {name}\")\n",
    "\n",
    "greet(\"Alice\")             # Positional\n",
    "greet(name=\"Bob\")          # Keyword\n",
    "greet()                    # Default\n"
   ]
  },
  {
   "cell_type": "markdown",
   "id": "787e0e83-7961-4928-8509-a9342a0d8b3b",
   "metadata": {},
   "source": [
    "# 4. What is the purpose of the return statement in a Python function?\n",
    "- The return statement sends a value back to the caller and exits the function. example:"
   ]
  },
  {
   "cell_type": "code",
   "execution_count": 3,
   "id": "67be4982-a5c3-4262-8229-7db070814724",
   "metadata": {},
   "outputs": [
    {
     "name": "stdout",
     "output_type": "stream",
     "text": [
      "16\n"
     ]
    }
   ],
   "source": [
    "def square(n):\n",
    "    return n * n\n",
    "\n",
    "result = square(4)\n",
    "print(result)  # Output: 16\n"
   ]
  },
  {
   "cell_type": "raw",
   "id": "b5704132-3174-4b16-b1e8-ec56ac2a9720",
   "metadata": {},
   "source": [
    "5. What are iterators in Python and how do they differ from iterables?\n",
    "Iterable: Any object that can return an iterator (e.g., list, tuple, string).\n",
    "\n",
    "Iterator: An object with a __next__() method and __iter__()."
   ]
  },
  {
   "cell_type": "code",
   "execution_count": 4,
   "id": "725d3e5b-d91d-4930-9342-db7a6043691f",
   "metadata": {},
   "outputs": [
    {
     "name": "stdout",
     "output_type": "stream",
     "text": [
      "1\n",
      "2\n"
     ]
    }
   ],
   "source": [
    "lst = [1, 2, 3]         # Iterable\n",
    "it = iter(lst)          # Iterator\n",
    "\n",
    "print(next(it))         # 1\n",
    "print(next(it))         # 2\n"
   ]
  },
  {
   "cell_type": "raw",
   "id": "ab09cfc7-a84c-46c9-b6f7-531f4ccb5924",
   "metadata": {},
   "source": [
    "6. Explain the concept of generators in Python and how they are defined.\n",
    "A generator is a function that yields values one at a time using yield.\n",
    "\n",
    "Generators are memory-efficient and pause state between calls."
   ]
  },
  {
   "cell_type": "code",
   "execution_count": 5,
   "id": "73f7ff12-6548-45dd-8cf9-cc6c80fd1bad",
   "metadata": {},
   "outputs": [
    {
     "name": "stdout",
     "output_type": "stream",
     "text": [
      "3\n",
      "2\n",
      "1\n"
     ]
    }
   ],
   "source": [
    "def countdown(n):\n",
    "    while n > 0:\n",
    "        yield n\n",
    "        n -= 1\n",
    "\n",
    "for i in countdown(3):\n",
    "    print(i)\n"
   ]
  },
  {
   "cell_type": "raw",
   "id": "cfd2bbba-9d4e-4209-9ae1-419255450fdb",
   "metadata": {},
   "source": [
    "7. What are the advantages of using generators over regular functions?\n",
    "Memory Efficient: They generate items on the fly.\n",
    "\n",
    "Lazy Evaluation: Values are computed only when needed.\n",
    "\n",
    "Convenient for Large Data: Great for handling streams of data."
   ]
  },
  {
   "cell_type": "code",
   "execution_count": 6,
   "id": "56439574-c96a-419d-b979-10e28e85314b",
   "metadata": {},
   "outputs": [
    {
     "name": "stdout",
     "output_type": "stream",
     "text": [
      "0\n",
      "1\n",
      "2\n"
     ]
    }
   ],
   "source": [
    "def infinite_counter():\n",
    "    n = 0\n",
    "    while True:\n",
    "        yield n\n",
    "        n += 1\n",
    "\n",
    "counter = infinite_counter()\n",
    "for _ in range(3):\n",
    "    print(next(counter))\n"
   ]
  },
  {
   "cell_type": "raw",
   "id": "fbaa4880-bcc6-45d1-9d0c-67a9e04d62b0",
   "metadata": {},
   "source": [
    "8. What is a lambda function in Python and when is it typically used?\n",
    "A lambda function is a small anonymous function defined with lambda.\n",
    "\n",
    "It is used when a short function is needed for a short period."
   ]
  },
  {
   "cell_type": "code",
   "execution_count": 7,
   "id": "fc74f339-2b02-4226-89f5-f4b9cab6d4fd",
   "metadata": {},
   "outputs": [
    {
     "name": "stdout",
     "output_type": "stream",
     "text": [
      "25\n"
     ]
    }
   ],
   "source": [
    "square = lambda x: x * x\n",
    "print(square(5))  # Output: 25\n"
   ]
  },
  {
   "cell_type": "raw",
   "id": "e8f9979a-5766-4979-8a1f-e66cd3a8eb47",
   "metadata": {},
   "source": [
    "9. Explain the purpose and usage of the map() function in Python.\n",
    "map() applies a function to all items in an iterable."
   ]
  },
  {
   "cell_type": "code",
   "execution_count": 8,
   "id": "010b05d6-98af-4091-a748-03160d0813fa",
   "metadata": {},
   "outputs": [
    {
     "name": "stdout",
     "output_type": "stream",
     "text": [
      "[1, 4, 9, 16]\n"
     ]
    }
   ],
   "source": [
    "nums = [1, 2, 3, 4]\n",
    "squares = list(map(lambda x: x ** 2, nums))\n",
    "print(squares)  # Output: [1, 4, 9, 16]\n"
   ]
  },
  {
   "cell_type": "raw",
   "id": "03172f96-88ca-496a-92ae-32945e917f28",
   "metadata": {},
   "source": [
    "10. What is the difference between map(), reduce(), and filter() functions in Python?\n",
    "map(func, iterable): Applies function to each item.\n",
    "\n",
    "filter(func, iterable): Keeps items where function returns True.\n",
    "\n",
    "reduce(func, iterable): Repeatedly applies function to reduce iterable to a single value (requires functools)."
   ]
  },
  {
   "cell_type": "code",
   "execution_count": 9,
   "id": "c5456424-7a39-4934-b839-57e64b9c8cee",
   "metadata": {},
   "outputs": [
    {
     "name": "stdout",
     "output_type": "stream",
     "text": [
      "[2, 3, 4, 5]\n",
      "[2, 4]\n",
      "10\n"
     ]
    }
   ],
   "source": [
    "from functools import reduce\n",
    "\n",
    "nums = [1, 2, 3, 4]\n",
    "\n",
    "print(list(map(lambda x: x + 1, nums)))        # [2, 3, 4, 5]\n",
    "print(list(filter(lambda x: x % 2 == 0, nums)))  # [2, 4]\n",
    "print(reduce(lambda x, y: x + y, nums))        # 10\n"
   ]
  }
 ],
 "metadata": {
  "kernelspec": {
   "display_name": "Python [conda env:base] *",
   "language": "python",
   "name": "conda-base-py"
  },
  "language_info": {
   "codemirror_mode": {
    "name": "ipython",
    "version": 3
   },
   "file_extension": ".py",
   "mimetype": "text/x-python",
   "name": "python",
   "nbconvert_exporter": "python",
   "pygments_lexer": "ipython3",
   "version": "3.11.7"
  }
 },
 "nbformat": 4,
 "nbformat_minor": 5
}
