{
 "cells": [
  {
   "cell_type": "markdown",
   "id": "94092891-d7ca-4c63-8094-a03f1d751c64",
   "metadata": {},
   "source": [
    "# Theoretical "
   ]
  },
  {
   "cell_type": "markdown",
   "id": "d5eabed0-bc7a-4490-b287-539ae4132eec",
   "metadata": {},
   "source": [
    "\n",
    "### **1. What is a Decision Tree, and how does it work?**\n",
    "\n",
    "**Ans:** A Decision Tree is a supervised learning algorithm used for classification and regression. It splits data into branches based on feature values, forming a tree-like structure. Each node represents a feature, branches represent decision rules, and leaves represent outcomes.\n",
    "\n",
    "---\n",
    "\n",
    "### **2. What are impurity measures in Decision Trees?**\n",
    "\n",
    "**Ans:** Impurity measures evaluate how mixed the classes are in a node. Common measures include **Gini Impurity** and **Entropy**. Lower impurity means purer nodes and better splits.\n",
    "\n",
    "---\n",
    "\n",
    "### **3. What is the mathematical formula for Gini Impurity?**\n",
    "\n",
    "**Ans:**\n",
    "\n",
    "$$\n",
    "Gini = 1 - \\sum_{i=1}^{n} p_i^2\n",
    "$$\n",
    "\n",
    "where $p_i$ is the probability of class $i$ in a node.\n",
    "\n",
    "---\n",
    "\n",
    "### **4. What is the mathematical formula for Entropy?**\n",
    "\n",
    "**Ans:**\n",
    "\n",
    "$$\n",
    "Entropy = -\\sum_{i=1}^{n} p_i \\log_2(p_i)\n",
    "$$\n",
    "\n",
    "where $p_i$ is the probability of class $i$.\n",
    "\n",
    "---\n",
    "\n",
    "### **5. What is Information Gain, and how is it used in Decision Trees?**\n",
    "\n",
    "**Ans:** Information Gain measures the reduction in entropy after a dataset is split on a feature. It helps the tree choose the best feature for splitting.\n",
    "\n",
    "---\n",
    "\n",
    "### **6. What is the difference between Gini Impurity and Entropy?**\n",
    "\n",
    "**Ans:** Both measure node impurity, but Gini is faster to compute. Entropy is based on information theory and penalizes impure nodes more heavily. Both often yield similar results.\n",
    "\n",
    "---\n",
    "\n",
    "### **7. What is the mathematical explanation behind Decision Trees?**\n",
    "\n",
    "**Ans:** A Decision Tree recursively splits the dataset using a criterion (e.g., Gini or Entropy) to maximize Information Gain. This process continues until stopping criteria are met.\n",
    "\n",
    "---\n",
    "\n",
    "### **8. What is Pre-Pruning in Decision Trees?**\n",
    "\n",
    "**Ans:** Pre-pruning stops tree growth early based on conditions like maximum depth or minimum samples per leaf to prevent overfitting.\n",
    "\n",
    "---\n",
    "\n",
    "### **9. What is Post-Pruning in Decision Trees?**\n",
    "\n",
    "**Ans:** Post-pruning builds a full tree and then prunes back nodes that do not provide significant accuracy improvement, reducing overfitting.\n",
    "\n",
    "---\n",
    "\n",
    "### **10. What is the difference between Pre-Pruning and Post-Pruning?**\n",
    "\n",
    "**Ans:** Pre-pruning stops tree growth early; post-pruning trims the tree after full growth. Pre-pruning is preventive; post-pruning is corrective.\n",
    "\n",
    "---\n",
    "\n",
    "### **11. What is a Decision Tree Regressor?**\n",
    "\n",
    "**Ans:** It is a Decision Tree used for regression tasks. Instead of predicting classes, it predicts continuous values by averaging the target in each leaf.\n",
    "\n",
    "---\n",
    "\n",
    "### **12. What are the advantages and disadvantages of Decision Trees?**\n",
    "\n",
    "**Ans:**\n",
    "**Advantages:** Easy to interpret, handles both numerical and categorical data, requires little data preprocessing.\n",
    "**Disadvantages:** Prone to overfitting, unstable with small data changes, biased to dominant features.\n",
    "\n",
    "---\n",
    "\n",
    "### **13. How does a Decision Tree handle missing values?**\n",
    "\n",
    "**Ans:** Some implementations handle missing values by assigning the sample to the most frequent or weighted average of possible branches.\n",
    "\n",
    "---\n",
    "\n",
    "### **14. How does a Decision Tree handle categorical features?**\n",
    "\n",
    "**Ans:** It splits based on unique category values or binary conditions (e.g., \"feature = category\"). Some libraries convert categories into numbers internally.\n",
    "\n",
    "---\n",
    "\n",
    "### **15. What are some real-world applications of Decision Trees?**\n",
    "\n",
    "**Ans:** Used in credit scoring, medical diagnosis, loan approval, customer segmentation, and predicting stock prices or sales.\n"
   ]
  },
  {
   "cell_type": "markdown",
   "id": "326982a3-7d31-4f45-8311-f657e02d649a",
   "metadata": {},
   "source": [
    "# Pratical "
   ]
  },
  {
   "cell_type": "code",
   "execution_count": 2,
   "id": "afae6ac7-f81a-429a-8a5a-776a7fd30825",
   "metadata": {},
   "outputs": [
    {
     "name": "stdout",
     "output_type": "stream",
     "text": [
      "Accuracy: 1.0\n"
     ]
    }
   ],
   "source": [
    "# 1. Train Decision Tree Classifier on Iris Dataset & Print Accuracy\n",
    "\n",
    "from sklearn.datasets import load_iris\n",
    "from sklearn.model_selection import train_test_split\n",
    "from sklearn.tree import DecisionTreeClassifier\n",
    "from sklearn.metrics import accuracy_score\n",
    "\n",
    "iris = load_iris()\n",
    "X_train, X_test, y_train, y_test = train_test_split(iris.data, iris.target, test_size=0.3, random_state=42)\n",
    "\n",
    "model = DecisionTreeClassifier()\n",
    "model.fit(X_train, y_train)\n",
    "y_pred = model.predict(X_test)\n",
    "\n",
    "print(\"Accuracy:\", accuracy_score(y_test, y_pred))"
   ]
  },
  {
   "cell_type": "code",
   "execution_count": 3,
   "id": "e975ca37-c43e-4491-adbd-9c3018872a93",
   "metadata": {},
   "outputs": [
    {
     "name": "stdout",
     "output_type": "stream",
     "text": [
      "Feature Importances (Gini): [0.01911002 0.         0.89326355 0.08762643]\n"
     ]
    }
   ],
   "source": [
    "# 2. Train Using Gini Impurity and Print Feature Importances\n",
    "\n",
    "model_gini = DecisionTreeClassifier(criterion='gini')\n",
    "model_gini.fit(X_train, y_train)\n",
    "\n",
    "print(\"Feature Importances (Gini):\", model_gini.feature_importances_)"
   ]
  },
  {
   "cell_type": "code",
   "execution_count": 4,
   "id": "2efb1067-af6c-4029-b839-470935604e80",
   "metadata": {},
   "outputs": [
    {
     "name": "stdout",
     "output_type": "stream",
     "text": [
      "Accuracy (Entropy): 1.0\n"
     ]
    }
   ],
   "source": [
    "# 3. Train Using Entropy and Print Accuracy\n",
    "\n",
    "model_entropy = DecisionTreeClassifier(criterion='entropy')\n",
    "model_entropy.fit(X_train, y_train)\n",
    "y_pred_entropy = model_entropy.predict(X_test)\n",
    "\n",
    "print(\"Accuracy (Entropy):\", accuracy_score(y_test, y_pred_entropy))"
   ]
  },
  {
   "cell_type": "code",
   "execution_count": 5,
   "id": "8f2f3ccb-fcc9-42f6-a628-eb90a181357b",
   "metadata": {},
   "outputs": [
    {
     "name": "stdout",
     "output_type": "stream",
     "text": [
      "Mean Squared Error: 2500.0\n"
     ]
    }
   ],
   "source": [
    "# 4. Train Decision Tree Regressor on Housing Dataset (Use Local CSV Instead of Download)\n",
    "\n",
    "import pandas as pd\n",
    "from sklearn.tree import DecisionTreeRegressor\n",
    "from sklearn.metrics import mean_squared_error\n",
    "\n",
    "# You need to load local housing dataset or replace this with a small dummy dataset\n",
    "# Example dataset with 2 features and 1 target\n",
    "data = pd.DataFrame({\n",
    "    'Feature1': [1, 2, 3, 4, 5],\n",
    "    'Feature2': [2, 4, 6, 8, 10],\n",
    "    'Target': [100, 150, 200, 250, 300]\n",
    "})\n",
    "\n",
    "X = data[['Feature1', 'Feature2']]\n",
    "y = data['Target']\n",
    "X_train, X_test, y_train, y_test = train_test_split(X, y, test_size=0.2, random_state=42)\n",
    "\n",
    "reg = DecisionTreeRegressor()\n",
    "reg.fit(X_train, y_train)\n",
    "y_pred = reg.predict(X_test)\n",
    "\n",
    "print(\"Mean Squared Error:\", mean_squared_error(y_test, y_pred))"
   ]
  },
  {
   "cell_type": "code",
   "execution_count": 6,
   "id": "da28097c-1e7c-417d-88d1-b04ecfa6a6f5",
   "metadata": {},
   "outputs": [
    {
     "name": "stdout",
     "output_type": "stream",
     "text": [
      "Shallow Tree Accuracy (depth=3): 0.0\n",
      "Full Tree Accuracy: 0.0\n"
     ]
    }
   ],
   "source": [
    "# 6. Max Depth 3 vs Full Tree\n",
    "\n",
    "shallow_model = DecisionTreeClassifier(max_depth=3)\n",
    "shallow_model.fit(X_train, y_train)\n",
    "shallow_pred = shallow_model.predict(X_test)\n",
    "\n",
    "print(\"Shallow Tree Accuracy (depth=3):\", accuracy_score(y_test, shallow_pred))\n",
    "print(\"Full Tree Accuracy:\", accuracy_score(y_test, y_pred))  # From previous model"
   ]
  },
  {
   "cell_type": "code",
   "execution_count": 7,
   "id": "243fdea0-cabb-438a-adca-b72f511743d6",
   "metadata": {},
   "outputs": [
    {
     "name": "stdout",
     "output_type": "stream",
     "text": [
      "Accuracy (min_samples_split=5): 0.0\n",
      "Accuracy (default): 0.0\n"
     ]
    }
   ],
   "source": [
    "# 7. min_samples_split=5 vs Default\n",
    "\n",
    "min_split_model = DecisionTreeClassifier(min_samples_split=5)\n",
    "min_split_model.fit(X_train, y_train)\n",
    "min_split_pred = min_split_model.predict(X_test)\n",
    "\n",
    "default_model = DecisionTreeClassifier()\n",
    "default_model.fit(X_train, y_train)\n",
    "default_pred = default_model.predict(X_test)\n",
    "\n",
    "print(\"Accuracy (min_samples_split=5):\", accuracy_score(y_test, min_split_pred))\n",
    "print(\"Accuracy (default):\", accuracy_score(y_test, default_pred))"
   ]
  },
  {
   "cell_type": "code",
   "execution_count": 8,
   "id": "6edaa116-5e0b-424b-b5ec-9a0dfeb52639",
   "metadata": {},
   "outputs": [
    {
     "name": "stdout",
     "output_type": "stream",
     "text": [
      "Accuracy without scaling: 1.0\n",
      "Accuracy with scaling: 1.0\n"
     ]
    }
   ],
   "source": [
    "# 8. Feature Scaling Before Training Decision Tree\n",
    "\n",
    "from sklearn.datasets import load_iris\n",
    "from sklearn.model_selection import train_test_split\n",
    "from sklearn.preprocessing import StandardScaler\n",
    "from sklearn.tree import DecisionTreeClassifier\n",
    "from sklearn.metrics import accuracy_score\n",
    "\n",
    "# Load data\n",
    "iris = load_iris()\n",
    "X = iris.data\n",
    "y = iris.target\n",
    "\n",
    "# Unscaled train-test split\n",
    "X_train, X_test, y_train, y_test = train_test_split(X, y, test_size=0.3, random_state=42)\n",
    "\n",
    "# Train Decision Tree on unscaled data\n",
    "model = DecisionTreeClassifier()\n",
    "model.fit(X_train, y_train)\n",
    "unscaled_pred = model.predict(X_test)\n",
    "print(\"Accuracy without scaling:\", accuracy_score(y_test, unscaled_pred))\n",
    "\n",
    "# Apply scaling\n",
    "scaler = StandardScaler()\n",
    "X_scaled = scaler.fit_transform(X)\n",
    "\n",
    "# Scaled train-test split\n",
    "X_train_s, X_test_s, y_train_s, y_test_s = train_test_split(X_scaled, y, test_size=0.3, random_state=42)\n",
    "\n",
    "# Train Decision Tree on scaled data\n",
    "model_scaled = DecisionTreeClassifier()\n",
    "model_scaled.fit(X_train_s, y_train_s)\n",
    "scaled_pred = model_scaled.predict(X_test_s)\n",
    "print(\"Accuracy with scaling:\", accuracy_score(y_test_s, scaled_pred))\n"
   ]
  },
  {
   "cell_type": "code",
   "execution_count": 9,
   "id": "6bcf8dcb-1fff-4531-a990-4a3dc29150eb",
   "metadata": {},
   "outputs": [
    {
     "name": "stdout",
     "output_type": "stream",
     "text": [
      "OvR Accuracy: 1.0\n"
     ]
    }
   ],
   "source": [
    "# 9. Train a Decision Tree Classifier using One-vs-Rest (OvR) for Multiclass Classification\n",
    "\n",
    "from sklearn.datasets import load_iris\n",
    "from sklearn.model_selection import train_test_split\n",
    "from sklearn.tree import DecisionTreeClassifier\n",
    "from sklearn.multiclass import OneVsRestClassifier\n",
    "from sklearn.metrics import accuracy_score\n",
    "\n",
    "iris = load_iris()\n",
    "X_train, X_test, y_train, y_test = train_test_split(iris.data, iris.target, test_size=0.3, random_state=42)\n",
    "\n",
    "ovr_model = OneVsRestClassifier(DecisionTreeClassifier())\n",
    "ovr_model.fit(X_train, y_train)\n",
    "y_pred = ovr_model.predict(X_test)\n",
    "\n",
    "print(\"OvR Accuracy:\", accuracy_score(y_test, y_pred))"
   ]
  },
  {
   "cell_type": "code",
   "execution_count": 10,
   "id": "49bff523-8f0b-488e-923c-9d5d98fda8db",
   "metadata": {},
   "outputs": [
    {
     "name": "stdout",
     "output_type": "stream",
     "text": [
      "sepal length (cm): 0.0191\n",
      "sepal width (cm): 0.0191\n",
      "petal length (cm): 0.8742\n",
      "petal width (cm): 0.0876\n"
     ]
    }
   ],
   "source": [
    "# 10. Train a Decision Tree Classifier and Display Feature Importances\n",
    "\n",
    "model = DecisionTreeClassifier()\n",
    "model.fit(X_train, y_train)\n",
    "importances = model.feature_importances_\n",
    "\n",
    "for name, importance in zip(iris.feature_names, importances):\n",
    "    print(f\"{name}: {importance:.4f}\")"
   ]
  },
  {
   "cell_type": "code",
   "execution_count": 11,
   "id": "c073b417-f0d5-40fb-8ab6-b8e5a868e2a1",
   "metadata": {},
   "outputs": [
    {
     "name": "stdout",
     "output_type": "stream",
     "text": [
      "MSE (max_depth=5): 0.5245146178314735\n",
      "MSE (unrestricted): 0.49550478550302807\n"
     ]
    }
   ],
   "source": [
    "# 11. Decision Tree Regressor with max_depth=5 vs. Unrestricted\n",
    "\n",
    "from sklearn.datasets import fetch_california_housing\n",
    "from sklearn.tree import DecisionTreeRegressor\n",
    "from sklearn.metrics import mean_squared_error\n",
    "\n",
    "data = fetch_california_housing()\n",
    "X, y = data.data, data.target\n",
    "X_train, X_test, y_train, y_test = train_test_split(X, y, test_size=0.2, random_state=42)\n",
    "\n",
    "reg_limited = DecisionTreeRegressor(max_depth=5)\n",
    "reg_full = DecisionTreeRegressor()\n",
    "\n",
    "reg_limited.fit(X_train, y_train)\n",
    "reg_full.fit(X_train, y_train)\n",
    "\n",
    "y_pred_limited = reg_limited.predict(X_test)\n",
    "y_pred_full = reg_full.predict(X_test)\n",
    "\n",
    "print(\"MSE (max_depth=5):\", mean_squared_error(y_test, y_pred_limited))\n",
    "print(\"MSE (unrestricted):\", mean_squared_error(y_test, y_pred_full))"
   ]
  },
  {
   "cell_type": "code",
   "execution_count": 12,
   "id": "f19bf758-83c1-494f-8a05-c82ee898ba97",
   "metadata": {},
   "outputs": [
    {
     "data": {
      "image/png": "[encoded data removed]",
      "text/plain": [
       "<Figure size 640x480 with 1 Axes>"
      ]
     },
     "metadata": {},
     "output_type": "display_data"
    }
   ],
   "source": [
    "## 12 Apply Cost Complexity Pruning (CCP) and Visualize Accuracy\n",
    "\n",
    "from sklearn.datasets import load_iris\n",
    "from sklearn.model_selection import train_test_split\n",
    "from sklearn.tree import DecisionTreeClassifier\n",
    "import matplotlib.pyplot as plt\n",
    "\n",
    "# Load iris dataset (classification)\n",
    "iris = load_iris()\n",
    "X_train, X_test, y_train, y_test = train_test_split(iris.data, iris.target, test_size=0.3, random_state=42)\n",
    "\n",
    "model = DecisionTreeClassifier(random_state=42)\n",
    "path = model.cost_complexity_pruning_path(X_train, y_train)\n",
    "ccp_alphas = path.ccp_alphas\n",
    "\n",
    "train_accuracies = []\n",
    "test_accuracies = []\n",
    "\n",
    "for ccp_alpha in ccp_alphas:\n",
    "    clf = DecisionTreeClassifier(random_state=42, ccp_alpha=ccp_alpha)\n",
    "    clf.fit(X_train, y_train)\n",
    "    train_accuracies.append(clf.score(X_train, y_train))\n",
    "    test_accuracies.append(clf.score(X_test, y_test))\n",
    "\n",
    "plt.plot(ccp_alphas, train_accuracies, label=\"Train Accuracy\")\n",
    "plt.plot(ccp_alphas, test_accuracies, label=\"Test Accuracy\")\n",
    "plt.xlabel(\"ccp_alpha\")\n",
    "plt.ylabel(\"Accuracy\")\n",
    "plt.legend()\n",
    "plt.title(\"Effect of CCP on Accuracy\")\n",
    "plt.show()\n"
   ]
  },
  {
   "cell_type": "code",
   "execution_count": 13,
   "id": "96f0139f-92ed-497e-b965-d72d94629ae1",
   "metadata": {},
   "outputs": [
    {
     "name": "stdout",
     "output_type": "stream",
     "text": [
      "Precision: 1.0\n",
      "Recall: 1.0\n",
      "F1 Score: 1.0\n"
     ]
    }
   ],
   "source": [
    "# 13. Evaluate Performance using Precision, Recall, and F1-Score\n",
    "\n",
    "from sklearn.metrics import precision_score, recall_score, f1_score\n",
    "\n",
    "model = DecisionTreeClassifier()\n",
    "model.fit(X_train, y_train)\n",
    "y_pred = model.predict(X_test)\n",
    "\n",
    "print(\"Precision:\", precision_score(y_test, y_pred, average='macro'))\n",
    "print(\"Recall:\", recall_score(y_test, y_pred, average='macro'))\n",
    "print(\"F1 Score:\", f1_score(y_test, y_pred, average='macro'))"
   ]
  }
 ],
 "metadata": {
  "kernelspec": {
   "display_name": "Python [conda env:base] *",
   "language": "python",
   "name": "conda-base-py"
  },
  "language_info": {
   "codemirror_mode": {
    "name": "ipython",
    "version": 3
   },
   "file_extension": ".py",
   "mimetype": "text/x-python",
   "name": "python",
   "nbconvert_exporter": "python",
   "pygments_lexer": "ipython3",
   "version": "3.11.7"
  }
 },
 "nbformat": 4,
 "nbformat_minor": 5
}
