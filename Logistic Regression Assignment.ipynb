{
 "cells": [
  {
   "cell_type": "markdown",
   "id": "ea970af0-b73d-4264-a31d-876e8c4113d5",
   "metadata": {},
   "source": [
    "# Theoritical "
   ]
  },
  {
   "cell_type": "markdown",
   "id": "7bb1427b-99fd-494c-8024-1b001f0c0f0b",
   "metadata": {},
   "source": [
    "### 1. What is Logistic Regression, and how does it differ from Linear Regression?\n",
    "\n",
    "**Ans:** Logistic Regression is a classification algorithm used to predict categorical outcomes (usually binary). Unlike Linear Regression which predicts continuous values, Logistic Regression predicts probabilities bounded between 0 and 1 using the logistic (sigmoid) function.\n",
    "\n",
    "---\n",
    "\n",
    "### 2. What is the mathematical equation of Logistic Regression?\n",
    "\n",
    "**Ans:**\n",
    "\n",
    "$$\n",
    "p = \\frac{1}{1 + e^{-(\\beta_0 + \\beta_1 x_1 + \\ldots + \\beta_n x_n)}}\n",
    "$$\n",
    "\n",
    "where $p$ is the probability of the positive class.\n",
    "\n",
    "---\n",
    "\n",
    "### 3. Why do we use the Sigmoid function in Logistic Regression?\n",
    "\n",
    "**Ans:** The sigmoid function maps any real-valued number into the range (0,1), representing probability, which suits classification tasks.\n",
    "\n",
    "---\n",
    "\n",
    "### 4. What is the cost function of Logistic Regression?\n",
    "\n",
    "**Ans:** Logistic Regression uses the **log loss** (cross-entropy) cost function, which penalizes wrong predictions and is defined as:\n",
    "\n",
    "$$\n",
    "-\\frac{1}{m} \\sum_{i=1}^m \\left[y^{(i)} \\log(\\hat{y}^{(i)}) + (1 - y^{(i)}) \\log(1 - \\hat{y}^{(i)})\\right]\n",
    "$$\n",
    "\n",
    "---\n",
    "\n",
    "### 5. What is Regularization in Logistic Regression? Why is it needed?\n",
    "\n",
    "**Ans:** Regularization adds a penalty to the cost function to prevent overfitting by shrinking coefficients. It controls model complexity, improving generalization.\n",
    "\n",
    "---\n",
    "\n",
    "### 6. Explain the difference between Lasso, Ridge, and Elastic Net regression\n",
    "\n",
    "**Ans:**\n",
    "\n",
    "* **Lasso (L1)**: Adds absolute value penalty, can shrink coefficients to zero (feature selection).\n",
    "* **Ridge (L2)**: Adds squared penalty, shrinks coefficients but none to zero.\n",
    "* **Elastic Net**: Combines L1 and L2 penalties, balancing feature selection and coefficient shrinkage.\n",
    "\n",
    "---\n",
    "\n",
    "### 7. When should we use Elastic Net instead of Lasso or Ridge?\n",
    "\n",
    "**Ans:** When there are many correlated features, Elastic Net is preferred because it balances Lasso’s sparsity and Ridge’s grouping effect.\n",
    "\n",
    "---\n",
    "\n",
    "### 8. What is the impact of the regularization parameter (λ) in Logistic Regression?\n",
    "\n",
    "**Ans:** Larger λ increases penalty strength, leading to simpler models with smaller coefficients; smaller λ reduces penalty, possibly causing overfitting.\n",
    "\n",
    "---\n",
    "\n",
    "### 9. What are the key assumptions of Logistic Regression?\n",
    "\n",
    "**Ans:**\n",
    "\n",
    "* Linearity between predictors and log-odds\n",
    "* Independent observations\n",
    "* No multicollinearity\n",
    "* Large sample size for reliable estimates\n",
    "\n",
    "---\n",
    "\n",
    "### 10. What are some alternatives to Logistic Regression for classification tasks?\n",
    "\n",
    "**Ans:**\n",
    "\n",
    "* Decision Trees\n",
    "* Random Forest\n",
    "* Support Vector Machines (SVM)\n",
    "* Neural Networks\n",
    "* K-Nearest Neighbors (KNN)\n",
    "\n",
    "---\n",
    "\n",
    "### 11. What are Classification Evaluation Metrics?\n",
    "\n",
    "**Ans:**\n",
    "\n",
    "* Accuracy\n",
    "* Precision\n",
    "* Recall (Sensitivity)\n",
    "* F1 Score\n",
    "* ROC-AUC\n",
    "\n",
    "---\n",
    "\n",
    "### 12. How does class imbalance affect Logistic Regression?\n",
    "\n",
    "**Ans:** It causes bias toward the majority class, reducing minority class prediction accuracy and misleading metrics like accuracy.\n",
    "\n",
    "---\n",
    "\n",
    "### 13. What is Hyperparameter Tuning in Logistic Regression?\n",
    "\n",
    "**Ans:** It’s the process of optimizing parameters (like regularization strength, solver choice) to improve model performance.\n",
    "\n",
    "---\n",
    "\n",
    "### 14. What are different solvers in Logistic Regression? Which one should be used?\n",
    "\n",
    "**Ans:** Common solvers:\n",
    "\n",
    "* **liblinear** (good for small datasets)\n",
    "* **saga** (supports L1 and large datasets)\n",
    "* **lbfgs** (default, fast for small/medium data)\n",
    "  Use **saga** for large datasets and L1 regularization; **lbfgs** for general purposes.\n",
    "\n",
    "---\n",
    "\n",
    "### 15. How is Logistic Regression extended for multiclass classification?\n",
    "\n",
    "**Ans:** Using strategies like **One-vs-Rest (OvR)** or **Softmax (Multinomial Logistic Regression)**.\n",
    "\n",
    "---\n",
    "\n",
    "### 16. What are the advantages and disadvantages of Logistic Regression?\n",
    "\n",
    "**Ans:**\n",
    "Advantages: Simple, interpretable, efficient, outputs probabilities.\n",
    "Disadvantages: Assumes linearity in log-odds, not suitable for complex/nonlinear data.\n",
    "\n",
    "---\n",
    "\n",
    "### 17. What are some use cases of Logistic Regression?\n",
    "\n",
    "**Ans:**\n",
    "\n",
    "* Spam detection\n",
    "* Credit scoring\n",
    "* Disease diagnosis (binary outcome)\n",
    "* Marketing response prediction\n",
    "\n",
    "---\n",
    "\n",
    "### 18. What is the difference between Softmax Regression and Logistic Regression?\n",
    "\n",
    "**Ans:** Logistic Regression is binary; Softmax Regression generalizes it to multiclass by modeling probabilities for multiple classes.\n",
    "\n",
    "---\n",
    "\n",
    "### 19. How do we choose between One-vs-Rest (OvR) and Softmax for multiclass classification?\n",
    "\n",
    "**Ans:** Use OvR for many classes or when classes are imbalanced; Softmax is better if classes are mutually exclusive and balanced.\n",
    "\n",
    "---\n",
    "\n",
    "### 20. How do we interpret coefficients in Logistic Regression?\n",
    "\n",
    "**Ans:** Coefficients represent the change in log-odds for a one-unit increase in the predictor; exponentiating gives the odds ratio.\n"
   ]
  },
  {
   "cell_type": "markdown",
   "id": "fc0d26c8-f331-4827-841e-1a99d792ad3d",
   "metadata": {},
   "source": [
    "# Practical"
   ]
  },
  {
   "cell_type": "code",
   "execution_count": 2,
   "id": "61c349f8-1a17-4aec-a555-363678bb508d",
   "metadata": {},
   "outputs": [
    {
     "name": "stdout",
     "output_type": "stream",
     "text": [
      "Accuracy: 0.9707602339181286\n"
     ]
    }
   ],
   "source": [
    "## Q1. Load dataset, split, Logistic Regression, print accuracy\n",
    "\n",
    "\n",
    "from sklearn.datasets import load_breast_cancer\n",
    "from sklearn.linear_model import LogisticRegression\n",
    "from sklearn.model_selection import train_test_split\n",
    "from sklearn.metrics import accuracy_score\n",
    "\n",
    "# Load dataset\n",
    "data = load_breast_cancer()\n",
    "X, y = data.data, data.target\n",
    "\n",
    "# Split dataset\n",
    "X_train, X_test, y_train, y_test = train_test_split(X, y, test_size=0.3, random_state=42)\n",
    "\n",
    "# Logistic Regression\n",
    "model = LogisticRegression(max_iter=1000)\n",
    "model.fit(X_train, y_train)\n",
    "\n",
    "# Predict and evaluate\n",
    "y_pred = model.predict(X_test)\n",
    "print(\"Accuracy:\", accuracy_score(y_test, y_pred))"
   ]
  },
  {
   "cell_type": "code",
   "execution_count": 3,
   "id": "bf5c35e9-a053-47b0-8bb4-095e01971f4b",
   "metadata": {},
   "outputs": [
    {
     "name": "stdout",
     "output_type": "stream",
     "text": [
      "L1 Regularization Accuracy: 0.9590643274853801\n"
     ]
    }
   ],
   "source": [
    "## 2. Logistic Regression with L1 regularization (Lasso), print accuracy\n",
    "\n",
    "model_l1 = LogisticRegression(penalty='l1', solver='saga', max_iter=1000)\n",
    "model_l1.fit(X_train, y_train)\n",
    "\n",
    "y_pred_l1 = model_l1.predict(X_test)\n",
    "print(\"L1 Regularization Accuracy:\", accuracy_score(y_test, y_pred_l1))\n"
   ]
  },
  {
   "cell_type": "code",
   "execution_count": 4,
   "id": "478131d5-cbb7-4e81-8ecb-e9c135f99726",
   "metadata": {},
   "outputs": [
    {
     "name": "stdout",
     "output_type": "stream",
     "text": [
      "L2 Regularization Accuracy: 0.9707602339181286\n",
      "Coefficients: [[ 1.96768256  0.16632605 -0.22530621  0.00582092 -0.22370506 -0.16647177\n",
      "  -0.7723212  -0.62865806 -0.27883726  0.01700048 -0.15012815  1.10363098\n",
      "   0.84806084 -0.16166889 -0.04060874  0.22539319  0.1149252  -0.07071527\n",
      "  -0.02828339  0.03139417  0.98759554 -0.40019228 -0.15463779 -0.01405049\n",
      "  -0.44589071  0.02978464 -1.47059735 -0.96734065 -0.97917418  0.0392336 ]]\n"
     ]
    }
   ],
   "source": [
    "## Q3. Logistic Regression with L2 regularization (Ridge), print accuracy and coefficients\n",
    "\n",
    "model_l2 = LogisticRegression(penalty='l2', solver='lbfgs', max_iter=1000)\n",
    "model_l2.fit(X_train, y_train)\n",
    "\n",
    "y_pred_l2 = model_l2.predict(X_test)\n",
    "print(\"L2 Regularization Accuracy:\", accuracy_score(y_test, y_pred_l2))\n",
    "print(\"Coefficients:\", model_l2.coef_)"
   ]
  },
  {
   "cell_type": "code",
   "execution_count": 5,
   "id": "33de2dfc-c706-4158-9089-e4936a58d466",
   "metadata": {},
   "outputs": [
    {
     "name": "stdout",
     "output_type": "stream",
     "text": [
      "Multiclass OvR Accuracy: 0.9555555555555556\n"
     ]
    }
   ],
   "source": [
    "## Q5. Logistic Regression for multiclass classification (One-vs-Rest)\n",
    "\n",
    "from sklearn.datasets import load_iris\n",
    "\n",
    "iris = load_iris()\n",
    "X_multi, y_multi = iris.data, iris.target\n",
    "X_train_m, X_test_m, y_train_m, y_test_m = train_test_split(X_multi, y_multi, test_size=0.3, random_state=42)\n",
    "\n",
    "model_ovr = LogisticRegression(multi_class='ovr', max_iter=1000)\n",
    "model_ovr.fit(X_train_m, y_train_m)\n",
    "\n",
    "y_pred_m = model_ovr.predict(X_test_m)\n",
    "print(\"Multiclass OvR Accuracy:\", accuracy_score(y_test_m, y_pred_m))"
   ]
  },
  {
   "cell_type": "code",
   "execution_count": 6,
   "id": "d14d66fb-a68f-4ef8-8a8f-14ec0973a1c6",
   "metadata": {},
   "outputs": [
    {
     "name": "stdout",
     "output_type": "stream",
     "text": [
      "Best parameters: {'C': 0.01, 'penalty': 'l1', 'solver': 'saga'}\n",
      "Best cross-validation accuracy: 0.911993670886076\n"
     ]
    }
   ],
   "source": [
    "## 6. GridSearchCV to tune hyperparameters (C and penalty) of Logistic Regression\n",
    "\n",
    "from sklearn.model_selection import GridSearchCV\n",
    "\n",
    "param_grid = {\n",
    "    'C': [0.01, 0.1, 1, 10],\n",
    "    'penalty': ['l1', 'l2', 'elasticnet'],\n",
    "    'solver': ['saga']  # saga supports l1, l2, elasticnet\n",
    "}\n",
    "\n",
    "grid = GridSearchCV(LogisticRegression(max_iter=1000), param_grid, cv=5, scoring='accuracy', n_jobs=-1)\n",
    "grid.fit(X_train, y_train)\n",
    "\n",
    "print(\"Best parameters:\", grid.best_params_)\n",
    "print(\"Best cross-validation accuracy:\", grid.best_score_)"
   ]
  },
  {
   "cell_type": "code",
   "execution_count": 7,
   "id": "39177b95-6336-4c51-ab98-fd0e30367b74",
   "metadata": {},
   "outputs": [
    {
     "name": "stdout",
     "output_type": "stream",
     "text": [
      "Average Stratified K-Fold Accuracy: 0.9525694767893185\n"
     ]
    }
   ],
   "source": [
    "## 7. Stratified K-Fold Cross-Validation evaluation for Logistic Regression\n",
    "\n",
    "from sklearn.model_selection import StratifiedKFold\n",
    "import numpy as np\n",
    "\n",
    "skf = StratifiedKFold(n_splits=5)\n",
    "accuracies = []\n",
    "\n",
    "for train_index, test_index in skf.split(X, y):\n",
    "    X_train_cv, X_test_cv = X[train_index], X[test_index]\n",
    "    y_train_cv, y_test_cv = y[train_index], y[test_index]\n",
    "\n",
    "    model_cv = LogisticRegression(max_iter=1000)\n",
    "    model_cv.fit(X_train_cv, y_train_cv)\n",
    "\n",
    "    y_pred_cv = model_cv.predict(X_test_cv)\n",
    "    accuracies.append(accuracy_score(y_test_cv, y_pred_cv))\n",
    "\n",
    "print(\"Average Stratified K-Fold Accuracy:\", np.mean(accuracies))"
   ]
  },
  {
   "cell_type": "code",
   "execution_count": 9,
   "id": "c7330060-5bab-465d-943a-16d8a05ab72c",
   "metadata": {},
   "outputs": [
    {
     "name": "stdout",
     "output_type": "stream",
     "text": [
      "Best parameters: {'solver': 'saga', 'penalty': 'l2', 'l1_ratio': 1, 'C': 0.00026366508987303583}\n",
      "Test Accuracy: 0.9590643274853801\n"
     ]
    }
   ],
   "source": [
    "## 9. RandomizedSearchCV for tuning hyperparameters (C, penalty, solver)\n",
    "\n",
    "from sklearn.linear_model import LogisticRegression\n",
    "from sklearn.model_selection import RandomizedSearchCV\n",
    "from sklearn.datasets import load_breast_cancer\n",
    "from sklearn.metrics import accuracy_score\n",
    "from sklearn.model_selection import train_test_split\n",
    "import numpy as np\n",
    "\n",
    "data = load_breast_cancer()\n",
    "X, y = data.data, data.target\n",
    "X_train, X_test, y_train, y_test = train_test_split(X, y, test_size=0.3, random_state=42)\n",
    "\n",
    "param_dist = {\n",
    "    'C': np.logspace(-4, 4, 20),\n",
    "    'penalty': ['l1', 'l2', 'elasticnet'],\n",
    "    'solver': ['saga'],  # saga supports all listed penalties\n",
    "    'l1_ratio': [0, 0.5, 1]  # Only used if penalty='elasticnet'\n",
    "}\n",
    "\n",
    "model = LogisticRegression(max_iter=10000)\n",
    "\n",
    "random_search = RandomizedSearchCV(model, param_distributions=param_dist, n_iter=20, cv=5, scoring='accuracy', random_state=42, n_jobs=-1)\n",
    "random_search.fit(X_train, y_train)\n",
    "\n",
    "print(\"Best parameters:\", random_search.best_params_)\n",
    "y_pred = random_search.predict(X_test)\n",
    "print(\"Test Accuracy:\", accuracy_score(y_test, y_pred))"
   ]
  },
  {
   "cell_type": "code",
   "execution_count": 10,
   "id": "9b4e7c85-abdb-4545-b7d6-01aa2dbca262",
   "metadata": {},
   "outputs": [
    {
     "name": "stdout",
     "output_type": "stream",
     "text": [
      "OvO Multiclass Accuracy: 1.0\n"
     ]
    }
   ],
   "source": [
    "\n",
    "# 10. One-vs-One (OvO) Multiclass Logistic Regression\n",
    "\n",
    "from sklearn.multiclass import OneVsOneClassifier\n",
    "from sklearn.datasets import load_iris\n",
    "from sklearn.linear_model import LogisticRegression\n",
    "from sklearn.model_selection import train_test_split\n",
    "from sklearn.metrics import accuracy_score\n",
    "\n",
    "iris = load_iris()\n",
    "X, y = iris.data, iris.target\n",
    "X_train, X_test, y_train, y_test = train_test_split(X, y, test_size=0.3, random_state=42)\n",
    "\n",
    "ovo = OneVsOneClassifier(LogisticRegression(max_iter=1000))\n",
    "ovo.fit(X_train, y_train)\n",
    "\n",
    "y_pred = ovo.predict(X_test)\n",
    "print(\"OvO Multiclass Accuracy:\", accuracy_score(y_test, y_pred))"
   ]
  },
  {
   "cell_type": "code",
   "execution_count": 11,
   "id": "16c8ff6f-a4e7-44f0-87d4-ff21b2cd2c50",
   "metadata": {},
   "outputs": [
    {
     "name": "stdout",
     "output_type": "stream",
     "text": [
      "Accuracy: 0.9707602339181286\n"
     ]
    },
    {
     "data": {
      "image/png": "[encoded data removed]",
      "text/plain": [
       "<Figure size 640x480 with 2 Axes>"
      ]
     },
     "metadata": {},
     "output_type": "display_data"
    }
   ],
   "source": [
    "# 11. Logistic Regression with confusion matrix visualization\n",
    "\n",
    "import matplotlib.pyplot as plt\n",
    "import seaborn as sns\n",
    "from sklearn.linear_model import LogisticRegression\n",
    "from sklearn.datasets import load_breast_cancer\n",
    "from sklearn.model_selection import train_test_split\n",
    "from sklearn.metrics import confusion_matrix, accuracy_score\n",
    "\n",
    "data = load_breast_cancer()\n",
    "X, y = data.data, data.target\n",
    "X_train, X_test, y_train, y_test = train_test_split(X, y, test_size=0.3, random_state=42)\n",
    "\n",
    "model = LogisticRegression(max_iter=1000)\n",
    "model.fit(X_train, y_train)\n",
    "y_pred = model.predict(X_test)\n",
    "\n",
    "cm = confusion_matrix(y_test, y_pred)\n",
    "print(\"Accuracy:\", accuracy_score(y_test, y_pred))\n",
    "\n",
    "sns.heatmap(cm, annot=True, fmt='d', cmap='Blues')\n",
    "plt.xlabel('Predicted')\n",
    "plt.ylabel('Actual')\n",
    "plt.title('Confusion Matrix')\n",
    "plt.show()"
   ]
  },
  {
   "cell_type": "code",
   "execution_count": 12,
   "id": "93204d19-665b-4768-a4d1-3c3617faa34b",
   "metadata": {},
   "outputs": [
    {
     "name": "stdout",
     "output_type": "stream",
     "text": [
      "Precision: 0.9724770642201835\n",
      "Recall: 0.9814814814814815\n",
      "F1-Score: 0.9769585253456222\n"
     ]
    }
   ],
   "source": [
    "# 12. Logistic Regression evaluation with Precision, Recall, F1-Score\n",
    "\n",
    "from sklearn.metrics import precision_score, recall_score, f1_score\n",
    "\n",
    "model.fit(X_train, y_train)\n",
    "y_pred = model.predict(X_test)\n",
    "\n",
    "print(\"Precision:\", precision_score(y_test, y_pred))\n",
    "print(\"Recall:\", recall_score(y_test, y_pred))\n",
    "print(\"F1-Score:\", f1_score(y_test, y_pred))"
   ]
  },
  {
   "cell_type": "code",
   "execution_count": 13,
   "id": "156bfee3-b177-468e-85aa-e558812435ee",
   "metadata": {},
   "outputs": [
    {
     "name": "stdout",
     "output_type": "stream",
     "text": [
      "Accuracy on imbalanced data: 0.8433333333333334\n"
     ]
    }
   ],
   "source": [
    "# 13. Logistic Regression on imbalanced data with class weights\n",
    "\n",
    "from sklearn.datasets import make_classification\n",
    "\n",
    "X_imb, y_imb = make_classification(n_classes=2, weights=[0.9, 0.1], n_samples=1000, random_state=42)\n",
    "\n",
    "X_train_imb, X_test_imb, y_train_imb, y_test_imb = train_test_split(X_imb, y_imb, test_size=0.3, random_state=42)\n",
    "\n",
    "model_imb = LogisticRegression(class_weight='balanced', max_iter=1000)\n",
    "model_imb.fit(X_train_imb, y_train_imb)\n",
    "\n",
    "y_pred_imb = model_imb.predict(X_test_imb)\n",
    "print(\"Accuracy on imbalanced data:\", accuracy_score(y_test_imb, y_pred_imb))"
   ]
  },
  {
   "cell_type": "code",
   "execution_count": 15,
   "id": "8ed261c0-845e-4b5e-b6c1-156d995355e7",
   "metadata": {},
   "outputs": [
    {
     "name": "stdout",
     "output_type": "stream",
     "text": [
      "Titanic Dataset Accuracy: 0.7947761194029851\n"
     ]
    }
   ],
   "source": [
    "# 14 . Logistic Regression on Titanic dataset (missing values handled)\n",
    "\n",
    "import pandas as pd\n",
    "from sklearn.impute import SimpleImputer\n",
    "from sklearn.preprocessing import LabelEncoder\n",
    "\n",
    "titanic = pd.read_csv('titanic.csv')\n",
    "\n",
    "# Simple preprocessing\n",
    "titanic['Age'].fillna(titanic['Age'].median(), inplace=True)\n",
    "titanic['Embarked'].fillna(titanic['Embarked'].mode()[0], inplace=True)\n",
    "\n",
    "features = ['Pclass', 'Sex', 'Age', 'Fare', 'Embarked']\n",
    "X = titanic[features]\n",
    "y = titanic['Survived']\n",
    "\n",
    "# Encoding categorical\n",
    "X['Sex'] = LabelEncoder().fit_transform(X['Sex'])\n",
    "X['Embarked'] = LabelEncoder().fit_transform(X['Embarked'])\n",
    "\n",
    "X_train, X_test, y_train, y_test = train_test_split(X, y, test_size=0.3, random_state=42)\n",
    "\n",
    "model = LogisticRegression(max_iter=1000)\n",
    "model.fit(X_train, y_train)\n",
    "\n",
    "print(\"Titanic Dataset Accuracy:\", model.score(X_test, y_test))"
   ]
  },
  {
   "cell_type": "code",
   "execution_count": 17,
   "id": "2173a6cc-41db-40a8-9ed5-68cc26a40a5e",
   "metadata": {},
   "outputs": [
    {
     "name": "stdout",
     "output_type": "stream",
     "text": [
      "Accuracy without scaling: 0.7948\n",
      "Accuracy with scaling: 0.7948\n"
     ]
    }
   ],
   "source": [
    "# 15. Feature scaling (Standardization) and Logistic Regression accuracy comparison\n",
    "\n",
    "from sklearn.preprocessing import StandardScaler\n",
    "\n",
    "scaler = StandardScaler()\n",
    "X_train_scaled = scaler.fit_transform(X_train)\n",
    "X_test_scaled = scaler.transform(X_test)\n",
    "\n",
    "model_unscaled = LogisticRegression(max_iter=1000)\n",
    "model_unscaled.fit(X_train, y_train)\n",
    "acc_unscaled = model_unscaled.score(X_test, y_test)\n",
    "\n",
    "model_scaled = LogisticRegression(max_iter=1000)\n",
    "model_scaled.fit(X_train_scaled, y_train)\n",
    "acc_scaled = model_scaled.score(X_test_scaled, y_test)\n",
    "\n",
    "print(f\"Accuracy without scaling: {acc_unscaled:.4f}\")\n",
    "print(f\"Accuracy with scaling: {acc_scaled:.4f}\")\n"
   ]
  },
  {
   "cell_type": "code",
   "execution_count": 18,
   "id": "b0a6cda8-9df6-4bb6-ae99-e8ee21fa0b00",
   "metadata": {},
   "outputs": [
    {
     "name": "stdout",
     "output_type": "stream",
     "text": [
      "Accuracy with C=0.5: 0.8022388059701493\n"
     ]
    }
   ],
   "source": [
    "\n",
    "# 16. Logistic Regression with custom learning rate (C=0.5) and accuracy evaluation\n",
    "\n",
    "model_custom = LogisticRegression(C=0.5, max_iter=1000)\n",
    "model_custom.fit(X_train, y_train)\n",
    "\n",
    "print(\"Accuracy with C=0.5:\", model_custom.score(X_test, y_test))"
   ]
  },
  {
   "cell_type": "code",
   "execution_count": 19,
   "id": "5191c16b-8eb6-4c0c-bd56-a054a63093e8",
   "metadata": {},
   "outputs": [
    {
     "name": "stdout",
     "output_type": "stream",
     "text": [
      "mean radius: -0.9554\n",
      "mean texture: -2.3746\n",
      "mean perimeter: -0.0273\n",
      "mean area: 0.0007\n",
      "mean smoothness: -0.3497\n"
     ]
    }
   ],
   "source": [
    "# 17. Logistic Regression feature importance based on coefficients\n",
    "\n",
    "model.fit(X_train, y_train)\n",
    "coef = model.coef_[0]\n",
    "\n",
    "for feature, importance in zip(data.feature_names, coef):\n",
    "    print(f\"{feature}: {importance:.4f}\")"
   ]
  },
  {
   "cell_type": "code",
   "execution_count": 20,
   "id": "f5026440-c255-4c39-b4eb-b59e663c81e6",
   "metadata": {},
   "outputs": [
    {
     "name": "stdout",
     "output_type": "stream",
     "text": [
      "Cohen's Kappa Score: 0.5754119138149556\n"
     ]
    }
   ],
   "source": [
    "# 18. Logistic Regression evaluation using Cohen’s Kappa Score\n",
    "\n",
    "from sklearn.metrics import cohen_kappa_score\n",
    "\n",
    "model.fit(X_train, y_train)\n",
    "y_pred = model.predict(X_test)\n",
    "\n",
    "kappa = cohen_kappa_score(y_test, y_pred)\n",
    "print(\"Cohen's Kappa Score:\", kappa)"
   ]
  },
  {
   "cell_type": "code",
   "execution_count": 21,
   "id": "370653e1-5c77-4380-80fa-7ad42084c4c8",
   "metadata": {},
   "outputs": [
    {
     "data": {
      "image/png": "[encoded data removed]",
      "text/plain": [
       "<Figure size 640x480 with 1 Axes>"
      ]
     },
     "metadata": {},
     "output_type": "display_data"
    }
   ],
   "source": [
    "# 19 . Logistic Regression and Precision-Recall Curve visualization\n",
    "\n",
    "from sklearn.metrics import precision_recall_curve, average_precision_score\n",
    "\n",
    "model.fit(X_train, y_train)\n",
    "y_scores = model.predict_proba(X_test)[:, 1]\n",
    "\n",
    "precision, recall, _ = precision_recall_curve(y_test, y_scores)\n",
    "ap_score = average_precision_score(y_test, y_scores)\n",
    "\n",
    "plt.plot(recall, precision, label=f'AP={ap_score:.2f}')\n",
    "plt.xlabel('Recall')\n",
    "plt.ylabel('Precision')\n",
    "plt.title('Precision-Recall Curve')\n",
    "plt.legend()\n",
    "plt.show()"
   ]
  },
  {
   "cell_type": "code",
   "execution_count": 22,
   "id": "c3e38227-b2fa-41fe-9fb3-ea4f3e9a6d90",
   "metadata": {},
   "outputs": [
    {
     "name": "stdout",
     "output_type": "stream",
     "text": [
      "Solver: liblinear - Accuracy: 0.7910\n",
      "Solver: saga - Accuracy: 0.6978\n",
      "Solver: lbfgs - Accuracy: 0.7948\n"
     ]
    }
   ],
   "source": [
    "# 20. Logistic Regression with different solvers comparison\n",
    "\n",
    "solvers = ['liblinear', 'saga', 'lbfgs']\n",
    "for solver in solvers:\n",
    "    model = LogisticRegression(solver=solver, max_iter=1000)\n",
    "    model.fit(X_train, y_train)\n",
    "    print(f\"Solver: {solver} - Accuracy: {model.score(X_test, y_test):.4f}\")"
   ]
  },
  {
   "cell_type": "code",
   "execution_count": 23,
   "id": "c1d55959-ea58-4d60-a349-fd4d8c68c1a3",
   "metadata": {},
   "outputs": [
    {
     "name": "stdout",
     "output_type": "stream",
     "text": [
      "Matthews Correlation Coefficient: 0.5755662885898145\n"
     ]
    }
   ],
   "source": [
    "#21. Logistic Regression performance using Matthews Correlation Coefficient (MCC)\n",
    "\n",
    "from sklearn.metrics import matthews_corrcoef\n",
    "\n",
    "model.fit(X_train, y_train)\n",
    "y_pred = model.predict(X_test)\n",
    "\n",
    "mcc = matthews_corrcoef(y_test, y_pred)\n",
    "print(\"Matthews Correlation Coefficient:\", mcc)"
   ]
  },
  {
   "cell_type": "code",
   "execution_count": 24,
   "id": "3b5b96db-e7a1-452e-8117-157a6a70cc26",
   "metadata": {},
   "outputs": [
    {
     "name": "stdout",
     "output_type": "stream",
     "text": [
      "Accuracy on raw data: 0.7948\n",
      "Accuracy on standardized data: 0.7948\n"
     ]
    }
   ],
   "source": [
    "\n",
    "#22. Logistic Regression on raw vs standardized data (accuracy comparison)\n",
    "\n",
    "# Raw data accuracy\n",
    "model_raw = LogisticRegression(max_iter=1000)\n",
    "model_raw.fit(X_train, y_train)\n",
    "acc_raw = model_raw.score(X_test, y_test)\n",
    "\n",
    "# Standardized data accuracy (reuse scaler from earlier)\n",
    "model_std = LogisticRegression(max_iter=1000)\n",
    "model_std.fit(X_train_scaled, y_train)\n",
    "acc_std = model_std.score(X_test_scaled, y_test)\n",
    "\n",
    "print(f\"Accuracy on raw data: {acc_raw:.4f}\")\n",
    "print(f\"Accuracy on standardized data: {acc_std:.4f}\")"
   ]
  },
  {
   "cell_type": "code",
   "execution_count": 25,
   "id": "7e55abf1-2ba8-426b-93cd-3aba842e8b2c",
   "metadata": {},
   "outputs": [
    {
     "name": "stdout",
     "output_type": "stream",
     "text": [
      "Loaded model accuracy: 0.7947761194029851\n"
     ]
    }
   ],
   "source": [
    "# 23. Train Logistic Regression, save model with joblib, and reload for prediction\n",
    "\n",
    "import joblib\n",
    "\n",
    "model = LogisticRegression(max_iter=1000)\n",
    "model.fit(X_train, y_train)\n",
    "\n",
    "joblib.dump(model, 'logistic_model.joblib')\n",
    "\n",
    "loaded_model = joblib.load('logistic_model.joblib')\n",
    "print(\"Loaded model accuracy:\", loaded_model.score(X_test, y_test))\n"
   ]
  }
 ],
 "metadata": {
  "kernelspec": {
   "display_name": "Python [conda env:base] *",
   "language": "python",
   "name": "conda-base-py"
  },
  "language_info": {
   "codemirror_mode": {
    "name": "ipython",
    "version": 3
   },
   "file_extension": ".py",
   "mimetype": "text/x-python",
   "name": "python",
   "nbconvert_exporter": "python",
   "pygments_lexer": "ipython3",
   "version": "3.11.7"
  }
 },
 "nbformat": 4,
 "nbformat_minor": 5
}
