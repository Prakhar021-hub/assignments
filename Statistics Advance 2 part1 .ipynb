{
 "cells": [
  {
   "cell_type": "markdown",
   "id": "4ad3ad9a-69da-4ae4-a0ce-3f3fcf55d2d4",
   "metadata": {},
   "source": [
    "# Question 1: Explain the properties of the F-distribution.\n",
    "\n",
    "The **F-distribution** is a continuous probability distribution that arises frequently as the ratio of two scaled chi-square distributions. Key properties include:\n",
    "\n",
    "- It is **asymmetric and right-skewed**.  \n",
    "- Defined by two degrees of freedom parameters: \\(d_1\\) (numerator) and \\(d_2\\) (denominator).  \n",
    "- Values are always **non-negative** (≥ 0).  \n",
    "- Used to compare variances by examining the ratio of two sample variances.  \n",
    "- The mean of the F-distribution is \\(\\frac{d_2}{d_2 - 2}\\) for \\(d_2 > 2\\).  \n",
    "- It approaches a normal distribution as the degrees of freedom increase.\n",
    "\n",
    "---\n",
    "\n",
    "# Question 2: In which types of statistical tests is the F-distribution used, and why is it appropriate for these tests?\n",
    "\n",
    "The F-distribution is primarily used in:\n",
    "\n",
    "- **F-tests** to compare variances of two populations.  \n",
    "- **Analysis of Variance (ANOVA)** to test differences between group means by comparing between-group variance to within-group variance.\n",
    "\n",
    "It is appropriate because the F-distribution models the ratio of two independent sample variances, which follow scaled chi-square distributions under the null hypothesis.\n",
    "\n",
    "---\n",
    "\n",
    "# Question 3: What are the key assumptions required for conducting an F-test to compare the variances of two populations?\n",
    "\n",
    "Key assumptions for the F-test include:\n",
    "\n",
    "- Samples are independent.  \n",
    "- Populations are normally distributed.  \n",
    "- Samples come from populations with continuous distributions.  \n",
    "- The data are measured on at least an interval scale.\n",
    "\n",
    "---\n",
    "\n",
    "# Question 4: What is the purpose of ANOVA, and how does it differ from a t-test?\n",
    "\n",
    "- **Purpose of ANOVA:** To determine if there are statistically significant differences among the means of three or more groups.  \n",
    "- **Difference from t-test:**  \n",
    "  - A t-test compares means between two groups only.  \n",
    "  - ANOVA can compare multiple groups simultaneously without increasing Type I error, which would happen if multiple t-tests were conducted.\n",
    "\n",
    "---\n",
    "\n",
    "# Question 5: Explain when and why you would use a one-way ANOVA instead of multiple t-tests when comparing more than two groups.\n",
    "\n",
    "One-way ANOVA is used when comparing the means of **three or more independent groups** to test if at least one group mean differs significantly.  \n",
    "\n",
    "Using multiple t-tests increases the chance of Type I error (false positives). ANOVA controls the overall error rate while testing all groups simultaneously.\n",
    "\n",
    "---\n",
    "\n",
    "# Question 6: Explain how variance is partitioned in ANOVA into between-group variance and within-group variance. How does this partitioning contribute to the calculation of the F-statistic?\n",
    "\n",
    "- **Between-group variance:** Variability due to differences between the group means and the overall mean.  \n",
    "- **Within-group variance:** Variability within each group around their respective means (random error).  \n",
    "\n",
    "The **F-statistic** is the ratio:\n",
    "\n",
    "\\[\n",
    "F = \\frac{\\text{Between-group variance}}{\\text{Within-group variance}}\n",
    "\\]\n",
    "\n",
    "A larger F-value indicates that between-group differences are large relative to within-group variation, suggesting significant group differences.\n",
    "\n",
    "---\n",
    "\n",
    "# Question 7: Compare the classical (frequentist) approach to ANOVA with the Bayesian approach. What are the key differences in terms of how they handle uncertainty, parameter estimation, and hypothesis testing?\n",
    "\n",
    "- **Frequentist ANOVA:**  \n",
    "  - Relies on sampling distributions and p-values.  \n",
    "  - Hypothesis testing focuses on rejecting or failing to reject null hypotheses.  \n",
    "  - Parameters are fixed but unknown quantities.\n",
    "\n",
    "- **Bayesian ANOVA:**  \n",
    "  - Incorporates prior beliefs about parameters, updating these with data to get posterior distributions.  \n",
    "  - Provides probabilistic interpretations of parameters and model comparisons.  \n",
    "  - Handles uncertainty explicitly through the posterior distribution.\n",
    "\n",
    "---\n"
   ]
  },
  {
   "cell_type": "markdown",
   "id": "938ee494-79da-495c-bd79-c20d58930787",
   "metadata": {},
   "source": [
    "# Question 8: You have two sets of data representing the incomes of two different professions:\n",
    "\n",
    "- Profession A: [48, 52, 55, 60, 62]  \n",
    "- Profession B: [45, 50, 55, 52, 47]  \n",
    "\n",
    "-- Perform an F-test to determine if the variances of the two professions' incomes are equal. What are your conclusions based on the F-test?\n"
   ]
  },
  {
   "cell_type": "code",
   "execution_count": 2,
   "id": "41dfdf68-0ace-4f71-aa54-3346118b8e63",
   "metadata": {},
   "outputs": [
    {
     "name": "stdout",
     "output_type": "stream",
     "text": [
      "Variance Profession A: 32.800\n",
      "Variance Profession B: 15.700\n",
      "F-statistic: 2.089\n",
      "P-value: 0.4930\n",
      "Fail to reject the null hypothesis: no significant difference in variances.\n"
     ]
    }
   ],
   "source": [
    "\n",
    "import numpy as np\n",
    "from scipy.stats import f\n",
    "\n",
    "# Data\n",
    "prof_a = np.array([48, 52, 55, 60, 62])\n",
    "prof_b = np.array([45, 50, 55, 52, 47])\n",
    "\n",
    "# Sample variances\n",
    "var_a = np.var(prof_a, ddof=1)\n",
    "var_b = np.var(prof_b, ddof=1)\n",
    "\n",
    "# F-statistic (larger variance / smaller variance)\n",
    "if var_a > var_b:\n",
    "    F = var_a / var_b\n",
    "    dfn = len(prof_a) - 1  # degrees of freedom numerator\n",
    "    dfd = len(prof_b) - 1  # degrees of freedom denominator\n",
    "else:\n",
    "    F = var_b / var_a\n",
    "    dfn = len(prof_b) - 1\n",
    "    dfd = len(prof_a) - 1\n",
    "\n",
    "# Two-tailed p-value\n",
    "p_value = 2 * min(f.cdf(F, dfn, dfd), 1 - f.cdf(F, dfn, dfd))\n",
    "\n",
    "print(f\"Variance Profession A: {var_a:.3f}\")\n",
    "print(f\"Variance Profession B: {var_b:.3f}\")\n",
    "print(f\"F-statistic: {F:.3f}\")\n",
    "print(f\"P-value: {p_value:.4f}\")\n",
    "\n",
    "alpha = 0.05\n",
    "if p_value < alpha:\n",
    "    print(\"Reject the null hypothesis: variances are significantly different.\")\n",
    "else:\n",
    "    print(\"Fail to reject the null hypothesis: no significant difference in variances.\")"
   ]
  },
  {
   "cell_type": "markdown",
   "id": "7fac8bc7-d47e-4fc9-b081-e4541413c74d",
   "metadata": {},
   "source": [
    "# Question 9: Conduct a one-way ANOVA to test whether there are any statistically significant differences in average heights between three different regions with the following data:"
   ]
  },
  {
   "cell_type": "code",
   "execution_count": 3,
   "id": "3d7ed377-d1bc-4f57-be71-785a7fe91eac",
   "metadata": {},
   "outputs": [
    {
     "name": "stdout",
     "output_type": "stream",
     "text": [
      "F-statistic: 67.873\n",
      "P-value: 0.0000\n",
      "Reject the null hypothesis: at least one group mean is significantly different.\n"
     ]
    }
   ],
   "source": [
    "from scipy.stats import f_oneway\n",
    "\n",
    "region_a = [160, 162, 165, 158, 164]\n",
    "region_b = [172, 175, 170, 168, 174]\n",
    "region_c = [180, 182, 179, 185, 183]\n",
    "\n",
    "# Perform one-way ANOVA\n",
    "F_statistic, p_value = f_oneway(region_a, region_b, region_c)\n",
    "\n",
    "print(f\"F-statistic: {F_statistic:.3f}\")\n",
    "print(f\"P-value: {p_value:.4f}\")\n",
    "\n",
    "alpha = 0.05\n",
    "if p_value < alpha:\n",
    "    print(\"Reject the null hypothesis: at least one group mean is significantly different.\")\n",
    "else:\n",
    "    print(\"Fail to reject the null hypothesis: no significant difference between group means.\")\n"
   ]
  }
 ],
 "metadata": {
  "kernelspec": {
   "display_name": "Python [conda env:base] *",
   "language": "python",
   "name": "conda-base-py"
  },
  "language_info": {
   "codemirror_mode": {
    "name": "ipython",
    "version": 3
   },
   "file_extension": ".py",
   "mimetype": "text/x-python",
   "name": "python",
   "nbconvert_exporter": "python",
   "pygments_lexer": "ipython3",
   "version": "3.11.7"
  }
 },
 "nbformat": 4,
 "nbformat_minor": 5
}
