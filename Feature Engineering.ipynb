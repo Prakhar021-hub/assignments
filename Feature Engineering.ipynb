{
 "cells": [
  {
   "cell_type": "markdown",
   "id": "2db45ea5-7e46-4728-b3d4-9e2678ab9ccd",
   "metadata": {},
   "source": [
    "# Feature Engineering Assigment"
   ]
  },
  {
   "cell_type": "raw",
   "id": "7488a397-fa09-4785-bf93-2ca526b56c05",
   "metadata": {},
   "source": [
    "1. What is a parameter?\n",
    "Ans- A parameter is a number that the machine learning model learns by itself during training to make better predictions.\n",
    " A parameter is a value that the model changes to learn and improve its predictions."
   ]
  },
  {
   "cell_type": "raw",
   "id": "f3c037c4-7bd4-4ae1-9a36-965683ba4c69",
   "metadata": {},
   "source": [
    "2. what is Coorelation. what is negative Coorelation?\n",
    "Ans- Correlation tells us how two things are related — when one changes, does the other change too?. negative correlation means that when one thing increases, the other decreases."
   ]
  },
  {
   "cell_type": "raw",
   "id": "f8981363-88cc-488a-b57c-aee4de237807",
   "metadata": {},
   "source": [
    "3. Define Machine Learning. What are the main components in Machine Learning?\n",
    "Ans- Machine Learning is a way for computers to learn from data and make decisions or predictions without being directly/explicitely programmed.\n",
    "#Main Components of Machine Learning:\n",
    "-Data – Information the model learns from.\n",
    "-Model – The system or algorithm that finds patterns in the data.\n",
    "-Training – The process of teaching the model using data.\n",
    "-Prediction – The model's output after learning.\n",
    "-Evaluation – Checking how good the model's predictions are. "
   ]
  },
  {
   "cell_type": "raw",
   "id": "16e631b2-0161-4a9a-b105-af91a8107b21",
   "metadata": {},
   "source": [
    "4. How does loss value help in determining whether the model is good or not?\n",
    "Ans- The loss value shows how far the model’s predictions are from the actual answers.\n",
    "Low loss = model is doing well.\n",
    "High loss = model is making more mistakes.\n",
    "So,this means a good model usually has a low loss value on both training and test data."
   ]
  },
  {
   "cell_type": "raw",
   "id": "56ee68f8-1d98-400f-9eac-e1a39cfba5b9",
   "metadata": {},
   "source": [
    "5.What are continuous and categorical variables?\n",
    "Ans- Continuous variables are numbers that can take any value within a range.Example: height, weight, temperature.Categorical variables are values that represent categories or groups. Example: gender (male/female), color (red/blue/green), type of car."
   ]
  },
  {
   "cell_type": "raw",
   "id": "74055414-61f9-4952-9d46-403ed9851bd2",
   "metadata": {},
   "source": [
    "6. How do we handle categorical variables in Machine Learning? What are the common t\n",
    "echniques?\n",
    "Ans- To use categorical variables in machine learning, we convert them into numbers. Common techniques:\n",
    "\n",
    "#Label Encoding\n",
    "Converts each category to a unique number.\n",
    "Example: red = 0, blue = 1, green = 2\n",
    "Best for ordinal data (where order matters).\n",
    "\n",
    "#One-Hot Encoding\n",
    "Creates a new column for each category (1 if present, 0 if not).\n",
    "Example: red = [1, 0, 0], blue = [0, 1, 0], green = [0, 0, 1]\n",
    "Best for nominal data (no order)."
   ]
  },
  {
   "cell_type": "raw",
   "id": "2b03ffd3-f7b5-4029-908c-559fc69a543b",
   "metadata": {},
   "source": [
    "7. What do you mean by training and testing a dataset?\n",
    "Ans- Training a dataset means using a portion of the data to teach the model how to make predictions or classifications. The model learns patterns and relationships from this data.\n",
    "\n",
    "Testing a dataset means using a separate portion of the data that the model has never seen before. This helps to evaluate how well the model performs on new, unseen data."
   ]
  },
  {
   "cell_type": "raw",
   "id": "6c8eb7b0-7831-4bba-86d2-de8d48df2ac1",
   "metadata": {},
   "source": [
    "8. What is sklearn.preprocessing?\n",
    "Ans sklearn.preprocessing is a module in scikit-learn (a popular Python library for machine learning) that provides functions to preprocess data before training a machine learning model.\n",
    "Common tasks include:\n",
    "\n",
    "Scaling data: Adjusting features so they have a similar range or distribution.\n",
    "Example: StandardScaler, MinMaxScaler.\n",
    "\n",
    "Encoding categorical variables: Converting categories into numerical values.\n",
    "Example: OneHotEncoder, LabelEncoder.\n",
    "\n",
    "Imputing missing values: Filling in missing data.\n",
    "Example: SimpleImputer."
   ]
  },
  {
   "cell_type": "raw",
   "id": "e2e5cf5c-3223-4ce9-a103-6cc7fc53e253",
   "metadata": {},
   "source": [
    "9. What is a Test set?\n",
    "Ans- A test set is a portion of the dataset that is separated from the training data and used to evaluate the model's performance after it has been trained.It contains unseen data that the model hasn't encountered during training.The purpose of the test set is to check how well the model generalizes to new, unseen data (real-world data)."
   ]
  },
  {
   "cell_type": "raw",
   "id": "698d07e8-c90b-435d-8758-806df997903b",
   "metadata": {},
   "source": [
    "10. How do we split data for model fitting (training and testing) in Python?\n",
    "Ans- using train_test_split from scikit-learn to split your data into training and testing sets.\n",
    "\n",
    "## code\n",
    "from sklearn.model_selection import train_test_split\n",
    "\n",
    "X_train, X_test, y_train, y_test = train_test_split(X, y, test_size=0.2, random_state=42)"
   ]
  },
  {
   "cell_type": "raw",
   "id": "36f2461e-4375-428d-8b12-c815d65177d8",
   "metadata": {},
   "source": [
    "11. Why do we have to perform EDA before fitting a model to the data?\n",
    "Ans- Exploratory Data Analysis (EDA) is crucial before fitting a model because it helps you:\n",
    "\n",
    "Understand the data: Identify patterns, relationships, and trends in the data.\n",
    "Detect anomalies: Find outliers, missing values, or incorrect data entries that could affect the model's performance.\n",
    "Check data distribution: Ensure that the data meets the assumptions required by certain models (e.g., normal distribution for linear regression).\n",
    "Feature selection: Identify which features are most important for prediction, and which ones can be dropped.\n",
    "Feature engineering: Create new meaningful features or transform existing ones for better model performance."
   ]
  },
  {
   "cell_type": "raw",
   "id": "6d6527b3-316e-4ae4-b7f8-8e5b908b5250",
   "metadata": {},
   "source": [
    "12. What is causation? Explain difference between correlation and causation with an example\n",
    "Ans- Causation refers to a relationship where one event or variable directly causes another to happen. In other words, changes in one variable directly lead to changes in another.\n",
    "Example of causation: Smoking causes lung cancer. If someone smokes, it directly increases the likelihood of developing lung cancer.\n",
    "Correlation refers to a statistical relationship between two variables, where they move together in some way, but one does not necessarily cause the other.\n",
    "Example of correlation: Ice cream sales and drowning incidents might both increase in summer. They are correlated because both increase in warmer weather, but ice cream sales don't cause drowning."
   ]
  },
  {
   "cell_type": "raw",
   "id": "051444aa-de40-4588-ae14-7858e2a19a84",
   "metadata": {},
   "source": [
    "13.What is an Optimizer? What are different types of optimizers? Explain each with an example.\n",
    "Ans- An optimizer in machine learning (especially in neural networks) is an algorithm used to minimize the loss function during training. It adjusts the model's weights to improve its predictions and reduce the error.\n",
    "Gradient Descent (GD) It updates the model’s parameters by calculating the gradient (derivative) of the loss function with respect to the parameters, then moves the parameters in the opposite direction of the gradient. Example: In linear regression, GD is used to find the best-fit line by minimizing the error between predicted and actual values."
   ]
  },
  {
   "cell_type": "raw",
   "id": "973b88f1-2fd2-4666-b5df-d5bfbd248b48",
   "metadata": {},
   "source": [
    "14. What is sklearn.linear_model ?\n",
    "Ans sklearn.linear_model is a module in scikit-learn (a Python library for machine learning) that contains algorithms for linear models, which are used for regression and classification tasks. These models assume a linear relationship between the input features and the target variable."
   ]
  }
 ],
 "metadata": {
  "kernelspec": {
   "display_name": "Python [conda env:base] *",
   "language": "python",
   "name": "conda-base-py"
  },
  "language_info": {
   "codemirror_mode": {
    "name": "ipython",
    "version": 3
   },
   "file_extension": ".py",
   "mimetype": "text/x-python",
   "name": "python",
   "nbconvert_exporter": "python",
   "pygments_lexer": "ipython3",
   "version": "3.11.7"
  }
 },
 "nbformat": 4,
 "nbformat_minor": 5
}
